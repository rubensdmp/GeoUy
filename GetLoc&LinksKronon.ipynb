{
  "nbformat": 4,
  "nbformat_minor": 0,
  "metadata": {
    "colab": {
      "name": "GetLoc&Links.ipynb",
      "provenance": [],
      "include_colab_link": true
    },
    "kernelspec": {
      "name": "python3",
      "display_name": "Python 3"
    },
    "language_info": {
      "name": "python"
    }
  },
  "cells": [
    {
      "cell_type": "markdown",
      "metadata": {
        "id": "view-in-github",
        "colab_type": "text"
      },
      "source": [
        "<a href=\"https://colab.research.google.com/github/rubensdmp/GeoUy/blob/main/GetLoc%26LinksKronon.ipynb\" target=\"_parent\"><img src=\"https://colab.research.google.com/assets/colab-badge.svg\" alt=\"Open In Colab\"/></a>"
      ]
    },
    {
      "cell_type": "markdown",
      "source": [
        "# **Script para extraer información geográfica de fotografías**\n",
        "\n",
        "## **Resumen**\n",
        "\n",
        "Este pequeño script extrae la información ubicación geográfica de fotografías y luego se crea un CSV con dicha ubicación y el link de google drive para acceder públicamente a las fotos.\n",
        "Este CSV luego es cargado en R y a traves de la biblioteca MapView se plotean como popups las fotos en su ubicación original.\n",
        "\n",
        "Desarrollado por [**Rubens Merlino**](https://www.linkedin.com/in/rubens-merlino-uy/)\n"
      ],
      "metadata": {
        "id": "WzbBiS3HqzOT"
      }
    },
    {
      "cell_type": "code",
      "execution_count": 97,
      "metadata": {
        "colab": {
          "base_uri": "https://localhost:8080/"
        },
        "id": "K1Ql6_NlCcxy",
        "outputId": "8654c98a-05e9-49de-802d-7169db635b21"
      },
      "outputs": [
        {
          "output_type": "stream",
          "name": "stdout",
          "text": [
            "Drive already mounted at /content/drive; to attempt to forcibly remount, call drive.mount(\"/content/drive\", force_remount=True).\n"
          ]
        }
      ],
      "source": [
        "from google.colab import drive\n",
        "from google.colab import files\n",
        "drive.mount('/content/drive')"
      ]
    },
    {
      "cell_type": "code",
      "source": [
        "from pydrive.auth import GoogleAuth\n",
        "from pydrive.drive import GoogleDrive\n",
        "from google.colab import auth\n",
        "from oauth2client.client import GoogleCredentials"
      ],
      "metadata": {
        "id": "x6QlvfVNJumG"
      },
      "execution_count": 98,
      "outputs": []
    },
    {
      "cell_type": "code",
      "source": [
        "auth.authenticate_user()\n",
        "gauth = GoogleAuth()\n",
        "gauth.credentials = GoogleCredentials.get_application_default()\n",
        "drive = GoogleDrive(gauth)"
      ],
      "metadata": {
        "id": "TA7dXGspJvwY"
      },
      "execution_count": null,
      "outputs": []
    },
    {
      "cell_type": "code",
      "source": [
        "from pydrive.drive import GoogleDrive\n",
        "\n",
        "drive = GoogleDrive(gauth) # Create GoogleDrive instance with authenticated GoogleAuth instance\n",
        "\n",
        "folder_id = '18nDmE8ttKu9jC-zogZ1uyc5knRstxdtf'\n",
        "\n",
        "str = \"\\'\" + folder_id + \"\\'\" + \" in parents and trashed=false\"\n",
        "\n",
        "\n",
        "# Auto-iterate through all files in the root folder.\n",
        "dir_list = drive.ListFile({'q': str}).GetList()\n"
      ],
      "metadata": {
        "id": "Wuf9pzHiJVxU"
      },
      "execution_count": 121,
      "outputs": []
    },
    {
      "cell_type": "code",
      "source": [
        "import os\n",
        "import glob\n",
        "import pandas as pd\n",
        "import requests\n",
        "!pip install exifread\n",
        "import exifread\n",
        "\n",
        "from PIL import Image\n",
        "from PIL.ExifTags import TAGS, GPSTAGS"
      ],
      "metadata": {
        "colab": {
          "base_uri": "https://localhost:8080/"
        },
        "id": "61V0DrsvJfDj",
        "outputId": "6e34abda-74fd-49dd-8c2e-2139bd90c6ff"
      },
      "execution_count": 122,
      "outputs": [
        {
          "output_type": "stream",
          "name": "stdout",
          "text": [
            "Looking in indexes: https://pypi.org/simple, https://us-python.pkg.dev/colab-wheels/public/simple/\n",
            "Requirement already satisfied: exifread in /usr/local/lib/python3.8/dist-packages (3.0.0)\n"
          ]
        }
      ]
    },
    {
      "cell_type": "code",
      "source": [
        "file_list=[]\n",
        "for dir in dir_list:\n",
        "    folder_id = dir['id']\n",
        "\n",
        "    str = \"\\'\" + folder_id + \"\\'\" + \" in parents and trashed=false\"\n",
        "\n",
        "    # Auto-iterate through all files in the root folder.\n",
        "    internal_file = drive.ListFile({'q': str}).GetList()\n",
        "    for file in internal_file:\n",
        "        file['lastModifyingUserName'] = dir['title']\n",
        "\n",
        "    file_list = file_list + internal_file\n",
        "\n",
        "\n",
        "\n",
        "#file_list[0]"
      ],
      "metadata": {
        "id": "z6ra8rNV6H6q"
      },
      "execution_count": 123,
      "outputs": []
    },
    {
      "cell_type": "code",
      "source": [
        "path = '/content/drive/MyDrive/07. Personal/11. Travesías & Campismo/FotosMapa/'\n",
        "fms=[]\n",
        "names=[]\n",
        "lats=[]\n",
        "lons=[]\n",
        "caps=[]\n",
        "rutas=[]\n",
        "\n",
        "#for file1 in file_list:\n",
        "#for file1 in glob.glob(path):\n",
        "    \n",
        "\n",
        "for file1 in file_list:\n",
        "    fms.append(file1['lastModifyingUserName'])\n",
        "    rutas.append('https://drive.google.com/uc?id=' + file1['id'])\n",
        "    \n",
        "    with open(path + file1['lastModifyingUserName'] + '/' + file1['title'], 'rb') as f:\n",
        "    #with open('https://drive.google.com/uc?id=' + file1['id'], 'rb') as f:\n",
        "        tags = exifread.process_file(f)\n",
        "        lat_ref = tags[\"GPS GPSLatitudeRef\"].printable\n",
        "        lat = tags[\"GPS GPSLatitude\"].printable[1:-1].replace(\" \", \"\").replace(\"/\", \",\").split(\",\")\n",
        "        lat = float(lat[0]) + float(lat[1]) / 60 + float(lat[2]) / float(lat[3]) / 3600\n",
        "        \n",
        "        if lat_ref != \"N\":\n",
        "            lat = lat * (-1)\n",
        "        lon_ref = tags[\"GPS GPSLongitudeRef\"].printable\n",
        "        lon = tags[\"GPS GPSLongitude\"].printable[1:-1].replace(\" \", \"\").replace(\"/\", \",\").split(\",\")\n",
        "        lon = float(lon[0]) + float(lon[1]) / 60 + float(lon[2]) / float(lon[3]) / 3600\n",
        "        \n",
        "        if lon_ref != \"E\":\n",
        "            lon = lon * (-1)\n",
        "        \n",
        "        names.append(f.name[60:])        \n",
        "        lats.append(lat)\n",
        "        lons.append(lon)\n",
        "        caps.append(tags[\"EXIF DateTimeOriginal\"])\n",
        "\n",
        "  "
      ],
      "metadata": {
        "id": "fzkLnFwOMEl4"
      },
      "execution_count": 124,
      "outputs": []
    },
    {
      "cell_type": "code",
      "source": [
        "#defino cabezales del CSV creado como un dataframe\n",
        "#nombre foto / Ubicación\n",
        "#from google.colab import files\n",
        "\n",
        "df = pd.DataFrame()\n",
        "df['formacion'] = fms\n",
        "#df['name'] = names\n",
        "df['lat'] = lats\n",
        "df['lon'] = lons\n",
        "df['captura'] = caps\n",
        "df['ruta'] = rutas\n",
        "\n",
        "#df = df.assign(Edad=None)\n",
        "\n",
        "df.to_csv('/content/drive/My Drive/07. Personal/11. Travesías & Campismo/FotosMapa/Campismo.csv', encoding='utf-8-sig')\n",
        "\n",
        "files.download(\"/content/drive/My Drive/07. Personal/11. Travesías & Campismo/FotosMapa/Campismo.csv\")\n",
        "\n",
        "df.head()"
      ],
      "metadata": {
        "colab": {
          "base_uri": "https://localhost:8080/",
          "height": 206
        },
        "id": "mwkTKxh-MbOQ",
        "outputId": "3cd8a275-a3a2-4298-b85e-deb27f95f15f"
      },
      "execution_count": 125,
      "outputs": [
        {
          "output_type": "display_data",
          "data": {
            "text/plain": [
              "<IPython.core.display.Javascript object>"
            ],
            "application/javascript": [
              "\n",
              "    async function download(id, filename, size) {\n",
              "      if (!google.colab.kernel.accessAllowed) {\n",
              "        return;\n",
              "      }\n",
              "      const div = document.createElement('div');\n",
              "      const label = document.createElement('label');\n",
              "      label.textContent = `Downloading \"${filename}\": `;\n",
              "      div.appendChild(label);\n",
              "      const progress = document.createElement('progress');\n",
              "      progress.max = size;\n",
              "      div.appendChild(progress);\n",
              "      document.body.appendChild(div);\n",
              "\n",
              "      const buffers = [];\n",
              "      let downloaded = 0;\n",
              "\n",
              "      const channel = await google.colab.kernel.comms.open(id);\n",
              "      // Send a message to notify the kernel that we're ready.\n",
              "      channel.send({})\n",
              "\n",
              "      for await (const message of channel.messages) {\n",
              "        // Send a message to notify the kernel that we're ready.\n",
              "        channel.send({})\n",
              "        if (message.buffers) {\n",
              "          for (const buffer of message.buffers) {\n",
              "            buffers.push(buffer);\n",
              "            downloaded += buffer.byteLength;\n",
              "            progress.value = downloaded;\n",
              "          }\n",
              "        }\n",
              "      }\n",
              "      const blob = new Blob(buffers, {type: 'application/binary'});\n",
              "      const a = document.createElement('a');\n",
              "      a.href = window.URL.createObjectURL(blob);\n",
              "      a.download = filename;\n",
              "      div.appendChild(a);\n",
              "      a.click();\n",
              "      div.remove();\n",
              "    }\n",
              "  "
            ]
          },
          "metadata": {}
        },
        {
          "output_type": "display_data",
          "data": {
            "text/plain": [
              "<IPython.core.display.Javascript object>"
            ],
            "application/javascript": [
              "download(\"download_73d92916-121e-446f-855f-9a63ec208c64\", \"Campismo.csv\", 11304)"
            ]
          },
          "metadata": {}
        },
        {
          "output_type": "execute_result",
          "data": {
            "text/plain": [
              "                         formacion        lat        lon              captura  \\\n",
              "0  2020 Rio Cebollati (R8-Averias) -33.781994 -54.660673  2020:01:02 18:17:09   \n",
              "1  2020 Rio Cebollati (R8-Averias) -33.804264 -54.710971  2020:01:02 13:52:28   \n",
              "2  2020 Rio Cebollati (R8-Averias) -33.678830 -54.408206  2020:01:05 14:50:38   \n",
              "3  2020 Rio Cebollati (R8-Averias) -33.678869 -54.408180  2020:01:05 14:50:34   \n",
              "4  2020 Rio Cebollati (R8-Averias) -33.763041 -54.493964  2020:01:04 14:16:21   \n",
              "\n",
              "                                                ruta  \n",
              "0  https://drive.google.com/uc?id=1bl0qUmr7FUIyWD...  \n",
              "1  https://drive.google.com/uc?id=1PZi6jmYCkXeblM...  \n",
              "2  https://drive.google.com/uc?id=1FY7Tpi53GOfrvD...  \n",
              "3  https://drive.google.com/uc?id=1gUhf5dvdYZluG1...  \n",
              "4  https://drive.google.com/uc?id=1akQXMkvo14Vnt6...  "
            ],
            "text/html": [
              "\n",
              "  <div id=\"df-e9bd21af-cd02-4f41-9af4-c0d5631cd062\">\n",
              "    <div class=\"colab-df-container\">\n",
              "      <div>\n",
              "<style scoped>\n",
              "    .dataframe tbody tr th:only-of-type {\n",
              "        vertical-align: middle;\n",
              "    }\n",
              "\n",
              "    .dataframe tbody tr th {\n",
              "        vertical-align: top;\n",
              "    }\n",
              "\n",
              "    .dataframe thead th {\n",
              "        text-align: right;\n",
              "    }\n",
              "</style>\n",
              "<table border=\"1\" class=\"dataframe\">\n",
              "  <thead>\n",
              "    <tr style=\"text-align: right;\">\n",
              "      <th></th>\n",
              "      <th>formacion</th>\n",
              "      <th>lat</th>\n",
              "      <th>lon</th>\n",
              "      <th>captura</th>\n",
              "      <th>ruta</th>\n",
              "    </tr>\n",
              "  </thead>\n",
              "  <tbody>\n",
              "    <tr>\n",
              "      <th>0</th>\n",
              "      <td>2020 Rio Cebollati (R8-Averias)</td>\n",
              "      <td>-33.781994</td>\n",
              "      <td>-54.660673</td>\n",
              "      <td>2020:01:02 18:17:09</td>\n",
              "      <td>https://drive.google.com/uc?id=1bl0qUmr7FUIyWD...</td>\n",
              "    </tr>\n",
              "    <tr>\n",
              "      <th>1</th>\n",
              "      <td>2020 Rio Cebollati (R8-Averias)</td>\n",
              "      <td>-33.804264</td>\n",
              "      <td>-54.710971</td>\n",
              "      <td>2020:01:02 13:52:28</td>\n",
              "      <td>https://drive.google.com/uc?id=1PZi6jmYCkXeblM...</td>\n",
              "    </tr>\n",
              "    <tr>\n",
              "      <th>2</th>\n",
              "      <td>2020 Rio Cebollati (R8-Averias)</td>\n",
              "      <td>-33.678830</td>\n",
              "      <td>-54.408206</td>\n",
              "      <td>2020:01:05 14:50:38</td>\n",
              "      <td>https://drive.google.com/uc?id=1FY7Tpi53GOfrvD...</td>\n",
              "    </tr>\n",
              "    <tr>\n",
              "      <th>3</th>\n",
              "      <td>2020 Rio Cebollati (R8-Averias)</td>\n",
              "      <td>-33.678869</td>\n",
              "      <td>-54.408180</td>\n",
              "      <td>2020:01:05 14:50:34</td>\n",
              "      <td>https://drive.google.com/uc?id=1gUhf5dvdYZluG1...</td>\n",
              "    </tr>\n",
              "    <tr>\n",
              "      <th>4</th>\n",
              "      <td>2020 Rio Cebollati (R8-Averias)</td>\n",
              "      <td>-33.763041</td>\n",
              "      <td>-54.493964</td>\n",
              "      <td>2020:01:04 14:16:21</td>\n",
              "      <td>https://drive.google.com/uc?id=1akQXMkvo14Vnt6...</td>\n",
              "    </tr>\n",
              "  </tbody>\n",
              "</table>\n",
              "</div>\n",
              "      <button class=\"colab-df-convert\" onclick=\"convertToInteractive('df-e9bd21af-cd02-4f41-9af4-c0d5631cd062')\"\n",
              "              title=\"Convert this dataframe to an interactive table.\"\n",
              "              style=\"display:none;\">\n",
              "        \n",
              "  <svg xmlns=\"http://www.w3.org/2000/svg\" height=\"24px\"viewBox=\"0 0 24 24\"\n",
              "       width=\"24px\">\n",
              "    <path d=\"M0 0h24v24H0V0z\" fill=\"none\"/>\n",
              "    <path d=\"M18.56 5.44l.94 2.06.94-2.06 2.06-.94-2.06-.94-.94-2.06-.94 2.06-2.06.94zm-11 1L8.5 8.5l.94-2.06 2.06-.94-2.06-.94L8.5 2.5l-.94 2.06-2.06.94zm10 10l.94 2.06.94-2.06 2.06-.94-2.06-.94-.94-2.06-.94 2.06-2.06.94z\"/><path d=\"M17.41 7.96l-1.37-1.37c-.4-.4-.92-.59-1.43-.59-.52 0-1.04.2-1.43.59L10.3 9.45l-7.72 7.72c-.78.78-.78 2.05 0 2.83L4 21.41c.39.39.9.59 1.41.59.51 0 1.02-.2 1.41-.59l7.78-7.78 2.81-2.81c.8-.78.8-2.07 0-2.86zM5.41 20L4 18.59l7.72-7.72 1.47 1.35L5.41 20z\"/>\n",
              "  </svg>\n",
              "      </button>\n",
              "      \n",
              "  <style>\n",
              "    .colab-df-container {\n",
              "      display:flex;\n",
              "      flex-wrap:wrap;\n",
              "      gap: 12px;\n",
              "    }\n",
              "\n",
              "    .colab-df-convert {\n",
              "      background-color: #E8F0FE;\n",
              "      border: none;\n",
              "      border-radius: 50%;\n",
              "      cursor: pointer;\n",
              "      display: none;\n",
              "      fill: #1967D2;\n",
              "      height: 32px;\n",
              "      padding: 0 0 0 0;\n",
              "      width: 32px;\n",
              "    }\n",
              "\n",
              "    .colab-df-convert:hover {\n",
              "      background-color: #E2EBFA;\n",
              "      box-shadow: 0px 1px 2px rgba(60, 64, 67, 0.3), 0px 1px 3px 1px rgba(60, 64, 67, 0.15);\n",
              "      fill: #174EA6;\n",
              "    }\n",
              "\n",
              "    [theme=dark] .colab-df-convert {\n",
              "      background-color: #3B4455;\n",
              "      fill: #D2E3FC;\n",
              "    }\n",
              "\n",
              "    [theme=dark] .colab-df-convert:hover {\n",
              "      background-color: #434B5C;\n",
              "      box-shadow: 0px 1px 3px 1px rgba(0, 0, 0, 0.15);\n",
              "      filter: drop-shadow(0px 1px 2px rgba(0, 0, 0, 0.3));\n",
              "      fill: #FFFFFF;\n",
              "    }\n",
              "  </style>\n",
              "\n",
              "      <script>\n",
              "        const buttonEl =\n",
              "          document.querySelector('#df-e9bd21af-cd02-4f41-9af4-c0d5631cd062 button.colab-df-convert');\n",
              "        buttonEl.style.display =\n",
              "          google.colab.kernel.accessAllowed ? 'block' : 'none';\n",
              "\n",
              "        async function convertToInteractive(key) {\n",
              "          const element = document.querySelector('#df-e9bd21af-cd02-4f41-9af4-c0d5631cd062');\n",
              "          const dataTable =\n",
              "            await google.colab.kernel.invokeFunction('convertToInteractive',\n",
              "                                                     [key], {});\n",
              "          if (!dataTable) return;\n",
              "\n",
              "          const docLinkHtml = 'Like what you see? Visit the ' +\n",
              "            '<a target=\"_blank\" href=https://colab.research.google.com/notebooks/data_table.ipynb>data table notebook</a>'\n",
              "            + ' to learn more about interactive tables.';\n",
              "          element.innerHTML = '';\n",
              "          dataTable['output_type'] = 'display_data';\n",
              "          await google.colab.output.renderOutput(dataTable, element);\n",
              "          const docLink = document.createElement('div');\n",
              "          docLink.innerHTML = docLinkHtml;\n",
              "          element.appendChild(docLink);\n",
              "        }\n",
              "      </script>\n",
              "    </div>\n",
              "  </div>\n",
              "  "
            ]
          },
          "metadata": {},
          "execution_count": 125
        }
      ]
    },
    {
      "cell_type": "code",
      "source": [],
      "metadata": {
        "id": "QObB_KrbOHT6"
      },
      "execution_count": null,
      "outputs": []
    }
  ]
}