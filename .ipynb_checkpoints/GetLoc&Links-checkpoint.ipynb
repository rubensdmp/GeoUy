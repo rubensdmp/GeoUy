{
 "cells": [
  {
   "cell_type": "markdown",
   "metadata": {
    "colab_type": "text",
    "id": "view-in-github"
   },
   "source": [
    "<a href=\"https://colab.research.google.com/github/rubensdmp/GeoUy/blob/main/GetLoc%26Links.ipynb\" target=\"_parent\"><img src=\"https://colab.research.google.com/assets/colab-badge.svg\" alt=\"Open In Colab\"/></a>"
   ]
  },
  {
   "cell_type": "markdown",
   "metadata": {
    "id": "WzbBiS3HqzOT"
   },
   "source": [
    "# **Script para extraer información geográfica de fotografías**\n",
    "\n",
    "## **Resumen**\n",
    "\n",
    "Este pequeño script extrae la información ubicación geográfica de fotografías y luego se crea un CSV con dicha ubicación y el link de google drive para acceder públicamente a las fotos.\n",
    "Este CSV luego es cargado en R y a traves de la biblioteca MapView se plotean como popups las fotos en su ubicación original.\n",
    "\n",
    "Desarrollado por [**Rubens Merlino**](https://www.linkedin.com/in/rubens-merlino-uy/)\n"
   ]
  },
  {
   "cell_type": "code",
   "execution_count": 1,
   "metadata": {
    "colab": {
     "base_uri": "https://localhost:8080/"
    },
    "id": "K1Ql6_NlCcxy",
    "outputId": "df542325-ee4a-474d-b0a8-c28d1d43dd0a"
   },
   "outputs": [
    {
     "name": "stdout",
     "output_type": "stream",
     "text": [
      "Mounted at /content/drive\n"
     ]
    }
   ],
   "source": [
    "from google.colab import drive\n",
    "drive.mount('/content/drive')"
   ]
  },
  {
   "cell_type": "code",
   "execution_count": 2,
   "metadata": {
    "id": "x6QlvfVNJumG"
   },
   "outputs": [],
   "source": [
    "from pydrive.auth import GoogleAuth\n",
    "from pydrive.drive import GoogleDrive\n",
    "from google.colab import auth\n",
    "from oauth2client.client import GoogleCredentials"
   ]
  },
  {
   "cell_type": "code",
   "execution_count": 3,
   "metadata": {
    "id": "TA7dXGspJvwY"
   },
   "outputs": [],
   "source": [
    "auth.authenticate_user()\n",
    "gauth = GoogleAuth()\n",
    "gauth.credentials = GoogleCredentials.get_application_default()\n",
    "drive = GoogleDrive(gauth)"
   ]
  },
  {
   "cell_type": "code",
   "execution_count": 4,
   "metadata": {
    "id": "Wuf9pzHiJVxU"
   },
   "outputs": [],
   "source": [
    "from pydrive.drive import GoogleDrive\n",
    "\n",
    "drive = GoogleDrive(gauth) # Create GoogleDrive instance with authenticated GoogleAuth instance\n",
    "\n",
    "folder_id = '1jwF3SUTHxuCSDohg0gGyEHJg5aVSq6t9'\n",
    "\n",
    "str = \"\\'\" + folder_id + \"\\'\" + \" in parents and trashed=false\"\n",
    "\n",
    "\n",
    "# Auto-iterate through all files in the root folder.\n",
    "file_list = drive.ListFile({'q': str}).GetList()\n"
   ]
  },
  {
   "cell_type": "code",
   "execution_count": 5,
   "metadata": {
    "colab": {
     "base_uri": "https://localhost:8080/"
    },
    "id": "61V0DrsvJfDj",
    "outputId": "aa416acb-cafe-4739-923e-785d620de9dc"
   },
   "outputs": [
    {
     "name": "stdout",
     "output_type": "stream",
     "text": [
      "Collecting exifread\n",
      "  Downloading ExifRead-3.0.0-py3-none-any.whl (40 kB)\n",
      "\u001b[?25l\r",
      "\u001b[K     |████████                        | 10 kB 26.1 MB/s eta 0:00:01\r",
      "\u001b[K     |████████████████▏               | 20 kB 15.5 MB/s eta 0:00:01\r",
      "\u001b[K     |████████████████████████▎       | 30 kB 10.4 MB/s eta 0:00:01\r",
      "\u001b[K     |████████████████████████████████| 40 kB 3.1 MB/s \n",
      "\u001b[?25hInstalling collected packages: exifread\n",
      "Successfully installed exifread-3.0.0\n"
     ]
    }
   ],
   "source": [
    "import os\n",
    "import glob\n",
    "import pandas as pd\n",
    "import requests\n",
    "!pip install exifread\n",
    "import exifread\n",
    "\n",
    "from PIL import Image\n",
    "from PIL.ExifTags import TAGS, GPSTAGS"
   ]
  },
  {
   "cell_type": "code",
   "execution_count": 6,
   "metadata": {
    "id": "fzkLnFwOMEl4"
   },
   "outputs": [],
   "source": [
    "path = '/content/drive/My Drive/06. FCIEN/Mapa Fotos Salidas de Campo/web/fotos/'\n",
    "fms=[]\n",
    "names=[]\n",
    "lats=[]\n",
    "lons=[]\n",
    "caps=[]\n",
    "rutas=[]\n",
    "\n",
    "#for file1 in file_list:\n",
    "#for file1 in glob.glob(path):\n",
    "    \n",
    "\n",
    "for file1 in file_list:\n",
    "    fms.append(file1['title'])\n",
    "    rutas.append('https://drive.google.com/uc?id=' + file1['id'])\n",
    "  \n",
    "    with open(path + file1['title'], 'rb') as f:\n",
    "        tags = exifread.process_file(f)\n",
    "        lat_ref = tags[\"GPS GPSLatitudeRef\"].printable\n",
    "        lat = tags[\"GPS GPSLatitude\"].printable[1:-1].replace(\" \", \"\").replace(\"/\", \",\").split(\",\")\n",
    "        lat = float(lat[0]) + float(lat[1]) / 60 + float(lat[2]) / float(lat[3]) / 3600\n",
    "        \n",
    "        if lat_ref != \"N\":\n",
    "            lat = lat * (-1)\n",
    "        lon_ref = tags[\"GPS GPSLongitudeRef\"].printable\n",
    "        lon = tags[\"GPS GPSLongitude\"].printable[1:-1].replace(\" \", \"\").replace(\"/\", \",\").split(\",\")\n",
    "        lon = float(lon[0]) + float(lon[1]) / 60 + float(lon[2]) / float(lon[3]) / 3600\n",
    "        \n",
    "        if lon_ref != \"E\":\n",
    "            lon = lon * (-1)\n",
    "        \n",
    "        names.append(f.name[60:])        \n",
    "        lats.append(lat)\n",
    "        lons.append(lon)\n",
    "        caps.append(tags[\"EXIF DateTimeOriginal\"])\n",
    "\n",
    "  "
   ]
  },
  {
   "cell_type": "code",
   "execution_count": 7,
   "metadata": {
    "colab": {
     "base_uri": "https://localhost:8080/",
     "height": 206
    },
    "id": "mwkTKxh-MbOQ",
    "outputId": "7a50b01d-18f8-4f6c-b5b7-01673f9c7b9d"
   },
   "outputs": [
    {
     "data": {
      "text/html": [
       "\n",
       "  <div id=\"df-e8cc2489-eba1-4e2a-800e-68dcdedb6a5f\">\n",
       "    <div class=\"colab-df-container\">\n",
       "      <div>\n",
       "<style scoped>\n",
       "    .dataframe tbody tr th:only-of-type {\n",
       "        vertical-align: middle;\n",
       "    }\n",
       "\n",
       "    .dataframe tbody tr th {\n",
       "        vertical-align: top;\n",
       "    }\n",
       "\n",
       "    .dataframe thead th {\n",
       "        text-align: right;\n",
       "    }\n",
       "</style>\n",
       "<table border=\"1\" class=\"dataframe\">\n",
       "  <thead>\n",
       "    <tr style=\"text-align: right;\">\n",
       "      <th></th>\n",
       "      <th>formacion</th>\n",
       "      <th>lat</th>\n",
       "      <th>lon</th>\n",
       "      <th>captura</th>\n",
       "      <th>ruta</th>\n",
       "    </tr>\n",
       "  </thead>\n",
       "  <tbody>\n",
       "    <tr>\n",
       "      <th>0</th>\n",
       "      <td>2022-05-05 10.29.15.jpg</td>\n",
       "      <td>-34.702648</td>\n",
       "      <td>-55.254925</td>\n",
       "      <td>2022:05:05 10:29:17</td>\n",
       "      <td>https://drive.google.com/uc?id=10pNMnNE59Xqk0T...</td>\n",
       "    </tr>\n",
       "    <tr>\n",
       "      <th>1</th>\n",
       "      <td>2022-05-08 12.46.34.jpg</td>\n",
       "      <td>-34.873081</td>\n",
       "      <td>-56.337479</td>\n",
       "      <td>2022:05:08 12:46:35</td>\n",
       "      <td>https://drive.google.com/uc?id=1pLXvJQelV4J2D0...</td>\n",
       "    </tr>\n",
       "    <tr>\n",
       "      <th>2</th>\n",
       "      <td>2022-05-08 10.35.14.jpg</td>\n",
       "      <td>-34.895760</td>\n",
       "      <td>-56.248226</td>\n",
       "      <td>2022:05:08 10:35:16</td>\n",
       "      <td>https://drive.google.com/uc?id=1z9u5dM8aalmjPV...</td>\n",
       "    </tr>\n",
       "    <tr>\n",
       "      <th>3</th>\n",
       "      <td>2022-05-06 16.05.23.jpg</td>\n",
       "      <td>-34.382816</td>\n",
       "      <td>-54.489250</td>\n",
       "      <td>2022:05:06 16:05:25</td>\n",
       "      <td>https://drive.google.com/uc?id=1Duxidoi6GH13kE...</td>\n",
       "    </tr>\n",
       "    <tr>\n",
       "      <th>4</th>\n",
       "      <td>IMG_1860.jpg</td>\n",
       "      <td>-34.702464</td>\n",
       "      <td>-55.255092</td>\n",
       "      <td>2022:05:05 11:11:13</td>\n",
       "      <td>https://drive.google.com/uc?id=1GmZpo_sfk5ksUu...</td>\n",
       "    </tr>\n",
       "  </tbody>\n",
       "</table>\n",
       "</div>\n",
       "      <button class=\"colab-df-convert\" onclick=\"convertToInteractive('df-e8cc2489-eba1-4e2a-800e-68dcdedb6a5f')\"\n",
       "              title=\"Convert this dataframe to an interactive table.\"\n",
       "              style=\"display:none;\">\n",
       "        \n",
       "  <svg xmlns=\"http://www.w3.org/2000/svg\" height=\"24px\"viewBox=\"0 0 24 24\"\n",
       "       width=\"24px\">\n",
       "    <path d=\"M0 0h24v24H0V0z\" fill=\"none\"/>\n",
       "    <path d=\"M18.56 5.44l.94 2.06.94-2.06 2.06-.94-2.06-.94-.94-2.06-.94 2.06-2.06.94zm-11 1L8.5 8.5l.94-2.06 2.06-.94-2.06-.94L8.5 2.5l-.94 2.06-2.06.94zm10 10l.94 2.06.94-2.06 2.06-.94-2.06-.94-.94-2.06-.94 2.06-2.06.94z\"/><path d=\"M17.41 7.96l-1.37-1.37c-.4-.4-.92-.59-1.43-.59-.52 0-1.04.2-1.43.59L10.3 9.45l-7.72 7.72c-.78.78-.78 2.05 0 2.83L4 21.41c.39.39.9.59 1.41.59.51 0 1.02-.2 1.41-.59l7.78-7.78 2.81-2.81c.8-.78.8-2.07 0-2.86zM5.41 20L4 18.59l7.72-7.72 1.47 1.35L5.41 20z\"/>\n",
       "  </svg>\n",
       "      </button>\n",
       "      \n",
       "  <style>\n",
       "    .colab-df-container {\n",
       "      display:flex;\n",
       "      flex-wrap:wrap;\n",
       "      gap: 12px;\n",
       "    }\n",
       "\n",
       "    .colab-df-convert {\n",
       "      background-color: #E8F0FE;\n",
       "      border: none;\n",
       "      border-radius: 50%;\n",
       "      cursor: pointer;\n",
       "      display: none;\n",
       "      fill: #1967D2;\n",
       "      height: 32px;\n",
       "      padding: 0 0 0 0;\n",
       "      width: 32px;\n",
       "    }\n",
       "\n",
       "    .colab-df-convert:hover {\n",
       "      background-color: #E2EBFA;\n",
       "      box-shadow: 0px 1px 2px rgba(60, 64, 67, 0.3), 0px 1px 3px 1px rgba(60, 64, 67, 0.15);\n",
       "      fill: #174EA6;\n",
       "    }\n",
       "\n",
       "    [theme=dark] .colab-df-convert {\n",
       "      background-color: #3B4455;\n",
       "      fill: #D2E3FC;\n",
       "    }\n",
       "\n",
       "    [theme=dark] .colab-df-convert:hover {\n",
       "      background-color: #434B5C;\n",
       "      box-shadow: 0px 1px 3px 1px rgba(0, 0, 0, 0.15);\n",
       "      filter: drop-shadow(0px 1px 2px rgba(0, 0, 0, 0.3));\n",
       "      fill: #FFFFFF;\n",
       "    }\n",
       "  </style>\n",
       "\n",
       "      <script>\n",
       "        const buttonEl =\n",
       "          document.querySelector('#df-e8cc2489-eba1-4e2a-800e-68dcdedb6a5f button.colab-df-convert');\n",
       "        buttonEl.style.display =\n",
       "          google.colab.kernel.accessAllowed ? 'block' : 'none';\n",
       "\n",
       "        async function convertToInteractive(key) {\n",
       "          const element = document.querySelector('#df-e8cc2489-eba1-4e2a-800e-68dcdedb6a5f');\n",
       "          const dataTable =\n",
       "            await google.colab.kernel.invokeFunction('convertToInteractive',\n",
       "                                                     [key], {});\n",
       "          if (!dataTable) return;\n",
       "\n",
       "          const docLinkHtml = 'Like what you see? Visit the ' +\n",
       "            '<a target=\"_blank\" href=https://colab.research.google.com/notebooks/data_table.ipynb>data table notebook</a>'\n",
       "            + ' to learn more about interactive tables.';\n",
       "          element.innerHTML = '';\n",
       "          dataTable['output_type'] = 'display_data';\n",
       "          await google.colab.output.renderOutput(dataTable, element);\n",
       "          const docLink = document.createElement('div');\n",
       "          docLink.innerHTML = docLinkHtml;\n",
       "          element.appendChild(docLink);\n",
       "        }\n",
       "      </script>\n",
       "    </div>\n",
       "  </div>\n",
       "  "
      ],
      "text/plain": [
       "                 formacion        lat        lon              captura  \\\n",
       "0  2022-05-05 10.29.15.jpg -34.702648 -55.254925  2022:05:05 10:29:17   \n",
       "1  2022-05-08 12.46.34.jpg -34.873081 -56.337479  2022:05:08 12:46:35   \n",
       "2  2022-05-08 10.35.14.jpg -34.895760 -56.248226  2022:05:08 10:35:16   \n",
       "3  2022-05-06 16.05.23.jpg -34.382816 -54.489250  2022:05:06 16:05:25   \n",
       "4             IMG_1860.jpg -34.702464 -55.255092  2022:05:05 11:11:13   \n",
       "\n",
       "                                                ruta  \n",
       "0  https://drive.google.com/uc?id=10pNMnNE59Xqk0T...  \n",
       "1  https://drive.google.com/uc?id=1pLXvJQelV4J2D0...  \n",
       "2  https://drive.google.com/uc?id=1z9u5dM8aalmjPV...  \n",
       "3  https://drive.google.com/uc?id=1Duxidoi6GH13kE...  \n",
       "4  https://drive.google.com/uc?id=1GmZpo_sfk5ksUu...  "
      ]
     },
     "execution_count": 7,
     "metadata": {},
     "output_type": "execute_result"
    }
   ],
   "source": [
    "#defino cabezales del CSV creado como un dataframe\n",
    "#nombre foto / Ubicación\n",
    "\n",
    "df = pd.DataFrame()\n",
    "df['formacion'] = fms\n",
    "#df['name'] = names\n",
    "df['lat'] = lats\n",
    "df['lon'] = lons\n",
    "df['captura'] = caps\n",
    "df['ruta'] = rutas\n",
    "\n",
    "#df = df.assign(Edad=None)\n",
    "\n",
    "df.to_csv('/content/drive/My Drive/06. FCIEN/Mapa Fotos Salidas de Campo/web/file.csv')\n",
    "\n",
    "#files.download(\"fms.csv\")\n",
    "\n",
    "df.head()"
   ]
  },
  {
   "cell_type": "code",
   "execution_count": 7,
   "metadata": {
    "id": "QObB_KrbOHT6"
   },
   "outputs": [],
   "source": []
  }
 ],
 "metadata": {
  "colab": {
   "authorship_tag": "ABX9TyPnghlTMCUNS/Mb3giGoj5p",
   "collapsed_sections": [],
   "include_colab_link": true,
   "name": "GetLoc&Links.ipynb",
   "provenance": []
  },
  "kernelspec": {
   "display_name": "Python 3 (ipykernel)",
   "language": "python",
   "name": "python3"
  },
  "language_info": {
   "codemirror_mode": {
    "name": "ipython",
    "version": 3
   },
   "file_extension": ".py",
   "mimetype": "text/x-python",
   "name": "python",
   "nbconvert_exporter": "python",
   "pygments_lexer": "ipython3",
   "version": "3.8.8"
  }
 },
 "nbformat": 4,
 "nbformat_minor": 1
}
