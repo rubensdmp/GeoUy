{
  "nbformat": 4,
  "nbformat_minor": 0,
  "metadata": {
    "colab": {
      "name": "GetLoc&Links.ipynb",
      "provenance": [],
      "include_colab_link": true
    },
    "kernelspec": {
      "name": "python3",
      "display_name": "Python 3"
    },
    "language_info": {
      "name": "python"
    }
  },
  "cells": [
    {
      "cell_type": "markdown",
      "metadata": {
        "id": "view-in-github",
        "colab_type": "text"
      },
      "source": [
        "<a href=\"https://colab.research.google.com/github/rubensdmp/GeoUy/blob/main/GetLoc%26LinksCampismo.ipynb\" target=\"_parent\"><img src=\"https://colab.research.google.com/assets/colab-badge.svg\" alt=\"Open In Colab\"/></a>"
      ]
    },
    {
      "cell_type": "markdown",
      "source": [
        "# **Script para extraer información geográfica de fotografías**\n",
        "\n",
        "## **Resumen**\n",
        "\n",
        "Este pequeño script extrae la información ubicación geográfica de fotografías y luego se crea un CSV con dicha ubicación y el link de google drive para acceder públicamente a las fotos.\n",
        "Este CSV luego es cargado en R y a traves de la biblioteca MapView se plotean como popups las fotos en su ubicación original.\n",
        "\n",
        "Desarrollado por [**Rubens Merlino**](https://www.linkedin.com/in/rubens-merlino-uy/)\n"
      ],
      "metadata": {
        "id": "WzbBiS3HqzOT"
      }
    },
    {
      "cell_type": "code",
      "execution_count": 8,
      "metadata": {
        "colab": {
          "base_uri": "https://localhost:8080/"
        },
        "id": "K1Ql6_NlCcxy",
        "outputId": "288637c9-1e6b-4d0b-f5b2-0ed4769efac0"
      },
      "outputs": [
        {
          "output_type": "stream",
          "name": "stdout",
          "text": [
            "Drive already mounted at /content/drive; to attempt to forcibly remount, call drive.mount(\"/content/drive\", force_remount=True).\n"
          ]
        }
      ],
      "source": [
        "from google.colab import drive\n",
        "drive.mount('/content/drive')"
      ]
    },
    {
      "cell_type": "code",
      "source": [
        "from pydrive.auth import GoogleAuth\n",
        "from pydrive.drive import GoogleDrive\n",
        "from google.colab import auth\n",
        "from oauth2client.client import GoogleCredentials"
      ],
      "metadata": {
        "id": "x6QlvfVNJumG"
      },
      "execution_count": null,
      "outputs": []
    },
    {
      "cell_type": "code",
      "source": [
        "auth.authenticate_user()\n",
        "gauth = GoogleAuth()\n",
        "gauth.credentials = GoogleCredentials.get_application_default()\n",
        "drive = GoogleDrive(gauth)"
      ],
      "metadata": {
        "id": "TA7dXGspJvwY"
      },
      "execution_count": null,
      "outputs": []
    },
    {
      "cell_type": "code",
      "source": [
        "from pydrive.drive import GoogleDrive\n",
        "\n",
        "drive = GoogleDrive(gauth) # Create GoogleDrive instance with authenticated GoogleAuth instance\n",
        "\n",
        "folder_id = '18nDmE8ttKu9jC-zogZ1uyc5knRstxdtf'\n",
        "\n",
        "str = \"\\'\" + folder_id + \"\\'\" + \" in parents and trashed=false\"\n",
        "\n",
        "\n",
        "# Auto-iterate through all files in the root folder.\n",
        "file_list = drive.ListFile({'q': str}).GetList()\n"
      ],
      "metadata": {
        "id": "Wuf9pzHiJVxU"
      },
      "execution_count": 20,
      "outputs": []
    },
    {
      "cell_type": "code",
      "source": [
        "import os\n",
        "import glob\n",
        "import pandas as pd\n",
        "import requests\n",
        "!pip install exifread\n",
        "import exifread\n",
        "\n",
        "from PIL import Image\n",
        "from PIL.ExifTags import TAGS, GPSTAGS"
      ],
      "metadata": {
        "colab": {
          "base_uri": "https://localhost:8080/"
        },
        "id": "61V0DrsvJfDj",
        "outputId": "025182e0-0ae3-4528-ef3e-d607948a2be9"
      },
      "execution_count": 10,
      "outputs": [
        {
          "output_type": "stream",
          "name": "stdout",
          "text": [
            "Looking in indexes: https://pypi.org/simple, https://us-python.pkg.dev/colab-wheels/public/simple/\n",
            "Requirement already satisfied: exifread in /usr/local/lib/python3.8/dist-packages (3.0.0)\n"
          ]
        }
      ]
    },
    {
      "cell_type": "code",
      "source": [
        "path = '/content/drive/MyDrive/07. Personal/11. Travesías & Campismo/FotosMapa/'\n",
        "fms=[]\n",
        "names=[]\n",
        "lats=[]\n",
        "lons=[]\n",
        "caps=[]\n",
        "rutas=[]\n",
        "\n",
        "#for file1 in file_list:\n",
        "#for file1 in glob.glob(path):\n",
        "    \n",
        "\n",
        "for file1 in file_list:\n",
        "    fms.append(file1['title'])\n",
        "    rutas.append('https://drive.google.com/uc?id=' + file1['id'])\n",
        "  \n",
        "    with open(path + file1['title'], 'rb') as f:\n",
        "        tags = exifread.process_file(f)\n",
        "        lat_ref = tags[\"GPS GPSLatitudeRef\"].printable\n",
        "        lat = tags[\"GPS GPSLatitude\"].printable[1:-1].replace(\" \", \"\").replace(\"/\", \",\").split(\",\")\n",
        "        lat = float(lat[0]) + float(lat[1]) / 60 + float(lat[2]) / float(lat[3]) / 3600\n",
        "        \n",
        "        if lat_ref != \"N\":\n",
        "            lat = lat * (-1)\n",
        "        lon_ref = tags[\"GPS GPSLongitudeRef\"].printable\n",
        "        lon = tags[\"GPS GPSLongitude\"].printable[1:-1].replace(\" \", \"\").replace(\"/\", \",\").split(\",\")\n",
        "        lon = float(lon[0]) + float(lon[1]) / 60 + float(lon[2]) / float(lon[3]) / 3600\n",
        "        \n",
        "        if lon_ref != \"E\":\n",
        "            lon = lon * (-1)\n",
        "        \n",
        "        names.append(f.name[60:])        \n",
        "        lats.append(lat)\n",
        "        lons.append(lon)\n",
        "        caps.append(tags[\"EXIF DateTimeOriginal\"])\n",
        "\n",
        "  "
      ],
      "metadata": {
        "id": "fzkLnFwOMEl4"
      },
      "execution_count": 21,
      "outputs": []
    },
    {
      "cell_type": "code",
      "source": [
        "#defino cabezales del CSV creado como un dataframe\n",
        "#nombre foto / Ubicación\n",
        "\n",
        "df = pd.DataFrame()\n",
        "df['formacion'] = fms\n",
        "#df['name'] = names\n",
        "df['lat'] = lats\n",
        "df['lon'] = lons\n",
        "df['captura'] = caps\n",
        "df['ruta'] = rutas\n",
        "\n",
        "#df = df.assign(Edad=None)\n",
        "\n",
        "df.to_csv('/content/drive/My Drive/07. Personal/11. Travesías & Campismo/FotosMapa/file.csv')\n",
        "\n",
        "#files.download(\"fms.csv\")\n",
        "\n",
        "df.head()"
      ],
      "metadata": {
        "colab": {
          "base_uri": "https://localhost:8080/",
          "height": 206
        },
        "id": "mwkTKxh-MbOQ",
        "outputId": "afeb7c23-3c1e-486c-abef-c9ea6aeac901"
      },
      "execution_count": 22,
      "outputs": [
        {
          "output_type": "execute_result",
          "data": {
            "text/plain": [
              "                 formacion        lat        lon              captura  \\\n",
              "0  2020-01-03 10.40.38.jpg -33.779231 -54.656614  2020:01:03 10:40:38   \n",
              "1  2020-01-03 10.42.32.jpg -33.779259 -54.656575  2020:01:03 10:42:32   \n",
              "2  2020-01-03 22.24.53.jpg -33.765682 -54.541686  2020:01:03 22:24:53   \n",
              "3  2020-01-03 15.33.33.jpg -33.773281 -54.606093  2020:01:03 15:33:33   \n",
              "4  2020-01-03 10.30.58.jpg -33.779538 -54.655445  2020:01:03 10:30:58   \n",
              "\n",
              "                                                ruta  \n",
              "0  https://drive.google.com/uc?id=1sx0EhPkgaA7WWG...  \n",
              "1  https://drive.google.com/uc?id=1tK795ppRNhx1rd...  \n",
              "2  https://drive.google.com/uc?id=1pDEsYh9ftI88-e...  \n",
              "3  https://drive.google.com/uc?id=1pit2jWcpSkekxX...  \n",
              "4  https://drive.google.com/uc?id=1s6yBFEocQJe3rO...  "
            ],
            "text/html": [
              "\n",
              "  <div id=\"df-ddb78b1b-ec50-422f-acbe-0ba053274abd\">\n",
              "    <div class=\"colab-df-container\">\n",
              "      <div>\n",
              "<style scoped>\n",
              "    .dataframe tbody tr th:only-of-type {\n",
              "        vertical-align: middle;\n",
              "    }\n",
              "\n",
              "    .dataframe tbody tr th {\n",
              "        vertical-align: top;\n",
              "    }\n",
              "\n",
              "    .dataframe thead th {\n",
              "        text-align: right;\n",
              "    }\n",
              "</style>\n",
              "<table border=\"1\" class=\"dataframe\">\n",
              "  <thead>\n",
              "    <tr style=\"text-align: right;\">\n",
              "      <th></th>\n",
              "      <th>formacion</th>\n",
              "      <th>lat</th>\n",
              "      <th>lon</th>\n",
              "      <th>captura</th>\n",
              "      <th>ruta</th>\n",
              "    </tr>\n",
              "  </thead>\n",
              "  <tbody>\n",
              "    <tr>\n",
              "      <th>0</th>\n",
              "      <td>2020-01-03 10.40.38.jpg</td>\n",
              "      <td>-33.779231</td>\n",
              "      <td>-54.656614</td>\n",
              "      <td>2020:01:03 10:40:38</td>\n",
              "      <td>https://drive.google.com/uc?id=1sx0EhPkgaA7WWG...</td>\n",
              "    </tr>\n",
              "    <tr>\n",
              "      <th>1</th>\n",
              "      <td>2020-01-03 10.42.32.jpg</td>\n",
              "      <td>-33.779259</td>\n",
              "      <td>-54.656575</td>\n",
              "      <td>2020:01:03 10:42:32</td>\n",
              "      <td>https://drive.google.com/uc?id=1tK795ppRNhx1rd...</td>\n",
              "    </tr>\n",
              "    <tr>\n",
              "      <th>2</th>\n",
              "      <td>2020-01-03 22.24.53.jpg</td>\n",
              "      <td>-33.765682</td>\n",
              "      <td>-54.541686</td>\n",
              "      <td>2020:01:03 22:24:53</td>\n",
              "      <td>https://drive.google.com/uc?id=1pDEsYh9ftI88-e...</td>\n",
              "    </tr>\n",
              "    <tr>\n",
              "      <th>3</th>\n",
              "      <td>2020-01-03 15.33.33.jpg</td>\n",
              "      <td>-33.773281</td>\n",
              "      <td>-54.606093</td>\n",
              "      <td>2020:01:03 15:33:33</td>\n",
              "      <td>https://drive.google.com/uc?id=1pit2jWcpSkekxX...</td>\n",
              "    </tr>\n",
              "    <tr>\n",
              "      <th>4</th>\n",
              "      <td>2020-01-03 10.30.58.jpg</td>\n",
              "      <td>-33.779538</td>\n",
              "      <td>-54.655445</td>\n",
              "      <td>2020:01:03 10:30:58</td>\n",
              "      <td>https://drive.google.com/uc?id=1s6yBFEocQJe3rO...</td>\n",
              "    </tr>\n",
              "  </tbody>\n",
              "</table>\n",
              "</div>\n",
              "      <button class=\"colab-df-convert\" onclick=\"convertToInteractive('df-ddb78b1b-ec50-422f-acbe-0ba053274abd')\"\n",
              "              title=\"Convert this dataframe to an interactive table.\"\n",
              "              style=\"display:none;\">\n",
              "        \n",
              "  <svg xmlns=\"http://www.w3.org/2000/svg\" height=\"24px\"viewBox=\"0 0 24 24\"\n",
              "       width=\"24px\">\n",
              "    <path d=\"M0 0h24v24H0V0z\" fill=\"none\"/>\n",
              "    <path d=\"M18.56 5.44l.94 2.06.94-2.06 2.06-.94-2.06-.94-.94-2.06-.94 2.06-2.06.94zm-11 1L8.5 8.5l.94-2.06 2.06-.94-2.06-.94L8.5 2.5l-.94 2.06-2.06.94zm10 10l.94 2.06.94-2.06 2.06-.94-2.06-.94-.94-2.06-.94 2.06-2.06.94z\"/><path d=\"M17.41 7.96l-1.37-1.37c-.4-.4-.92-.59-1.43-.59-.52 0-1.04.2-1.43.59L10.3 9.45l-7.72 7.72c-.78.78-.78 2.05 0 2.83L4 21.41c.39.39.9.59 1.41.59.51 0 1.02-.2 1.41-.59l7.78-7.78 2.81-2.81c.8-.78.8-2.07 0-2.86zM5.41 20L4 18.59l7.72-7.72 1.47 1.35L5.41 20z\"/>\n",
              "  </svg>\n",
              "      </button>\n",
              "      \n",
              "  <style>\n",
              "    .colab-df-container {\n",
              "      display:flex;\n",
              "      flex-wrap:wrap;\n",
              "      gap: 12px;\n",
              "    }\n",
              "\n",
              "    .colab-df-convert {\n",
              "      background-color: #E8F0FE;\n",
              "      border: none;\n",
              "      border-radius: 50%;\n",
              "      cursor: pointer;\n",
              "      display: none;\n",
              "      fill: #1967D2;\n",
              "      height: 32px;\n",
              "      padding: 0 0 0 0;\n",
              "      width: 32px;\n",
              "    }\n",
              "\n",
              "    .colab-df-convert:hover {\n",
              "      background-color: #E2EBFA;\n",
              "      box-shadow: 0px 1px 2px rgba(60, 64, 67, 0.3), 0px 1px 3px 1px rgba(60, 64, 67, 0.15);\n",
              "      fill: #174EA6;\n",
              "    }\n",
              "\n",
              "    [theme=dark] .colab-df-convert {\n",
              "      background-color: #3B4455;\n",
              "      fill: #D2E3FC;\n",
              "    }\n",
              "\n",
              "    [theme=dark] .colab-df-convert:hover {\n",
              "      background-color: #434B5C;\n",
              "      box-shadow: 0px 1px 3px 1px rgba(0, 0, 0, 0.15);\n",
              "      filter: drop-shadow(0px 1px 2px rgba(0, 0, 0, 0.3));\n",
              "      fill: #FFFFFF;\n",
              "    }\n",
              "  </style>\n",
              "\n",
              "      <script>\n",
              "        const buttonEl =\n",
              "          document.querySelector('#df-ddb78b1b-ec50-422f-acbe-0ba053274abd button.colab-df-convert');\n",
              "        buttonEl.style.display =\n",
              "          google.colab.kernel.accessAllowed ? 'block' : 'none';\n",
              "\n",
              "        async function convertToInteractive(key) {\n",
              "          const element = document.querySelector('#df-ddb78b1b-ec50-422f-acbe-0ba053274abd');\n",
              "          const dataTable =\n",
              "            await google.colab.kernel.invokeFunction('convertToInteractive',\n",
              "                                                     [key], {});\n",
              "          if (!dataTable) return;\n",
              "\n",
              "          const docLinkHtml = 'Like what you see? Visit the ' +\n",
              "            '<a target=\"_blank\" href=https://colab.research.google.com/notebooks/data_table.ipynb>data table notebook</a>'\n",
              "            + ' to learn more about interactive tables.';\n",
              "          element.innerHTML = '';\n",
              "          dataTable['output_type'] = 'display_data';\n",
              "          await google.colab.output.renderOutput(dataTable, element);\n",
              "          const docLink = document.createElement('div');\n",
              "          docLink.innerHTML = docLinkHtml;\n",
              "          element.appendChild(docLink);\n",
              "        }\n",
              "      </script>\n",
              "    </div>\n",
              "  </div>\n",
              "  "
            ]
          },
          "metadata": {},
          "execution_count": 22
        }
      ]
    },
    {
      "cell_type": "code",
      "source": [],
      "metadata": {
        "id": "QObB_KrbOHT6"
      },
      "execution_count": null,
      "outputs": []
    }
  ]
}